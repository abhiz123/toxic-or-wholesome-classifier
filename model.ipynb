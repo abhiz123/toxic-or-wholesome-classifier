{
 "cells": [
  {
   "cell_type": "code",
   "execution_count": 5,
   "metadata": {},
   "outputs": [],
   "source": [
    "!jt -t chesterish -T -N"
   ]
  },
  {
   "cell_type": "code",
   "execution_count": 6,
   "metadata": {},
   "outputs": [],
   "source": [
    "import pandas as pd\n",
    "import numpy as np\n",
    "import matplotlib.pyplot as plt\n",
    "import seaborn as sns\n",
    "%matplotlib inline"
   ]
  },
  {
   "cell_type": "code",
   "execution_count": 7,
   "metadata": {},
   "outputs": [
    {
     "name": "stdout",
     "output_type": "stream",
     "text": [
      "(159571, 8)\n"
     ]
    }
   ],
   "source": [
    "df = pd.read_csv(\"jigsaw-toxic-comment-classification-challenge/train.csv\",encoding='latin-1')\n",
    "print(df.shape)"
   ]
  },
  {
   "cell_type": "code",
   "execution_count": 8,
   "metadata": {},
   "outputs": [
    {
     "name": "stdout",
     "output_type": "stream",
     "text": [
      "                 id                                       comment_text  toxic  \\\n",
      "0  0000997932d777bf  Explanation\\nWhy the edits made under my usern...      0   \n",
      "1  000103f0d9cfb60f  D'aww! He matches this background colour I'm s...      0   \n",
      "2  000113f07ec002fd  Hey man, I'm really not trying to edit war. It...      0   \n",
      "3  0001b41b1c6bb37e  \"\\nMore\\nI can't make any real suggestions on ...      0   \n",
      "4  0001d958c54c6e35  You, sir, are my hero. Any chance you remember...      0   \n",
      "\n",
      "   severe_toxic  obscene  threat  insult  identity_hate  \n",
      "0             0        0       0       0              0  \n",
      "1             0        0       0       0              0  \n",
      "2             0        0       0       0              0  \n",
      "3             0        0       0       0              0  \n",
      "4             0        0       0       0              0  \n"
     ]
    }
   ],
   "source": [
    "print(df.head())"
   ]
  },
  {
   "cell_type": "code",
   "execution_count": 9,
   "metadata": {},
   "outputs": [
    {
     "name": "stdout",
     "output_type": "stream",
     "text": [
      "0    Explanation\\nWhy the edits made under my usern...\n",
      "1    D'aww! He matches this background colour I'm s...\n",
      "2    Hey man, I'm really not trying to edit war. It...\n",
      "3    \"\\nMore\\nI can't make any real suggestions on ...\n",
      "4    You, sir, are my hero. Any chance you remember...\n",
      "Name: comment_text, dtype: object\n"
     ]
    }
   ],
   "source": [
    "# To split only into text and result\n",
    "#For the text\n",
    "comment = df['comment_text']\n",
    "print(comment.head())"
   ]
  },
  {
   "cell_type": "code",
   "execution_count": 10,
   "metadata": {},
   "outputs": [
    {
     "name": "stdout",
     "output_type": "stream",
     "text": [
      "   toxic  severe_toxic  obscene  threat  insult  identity_hate\n",
      "0      0             0        0       0       0              0\n",
      "1      0             0        0       0       0              0\n",
      "2      0             0        0       0       0              0\n",
      "3      0             0        0       0       0              0\n",
      "4      0             0        0       0       0              0\n"
     ]
    }
   ],
   "source": [
    "#For the other labels\n",
    "label = df[['toxic', 'severe_toxic' , 'obscene' , 'threat' , 'insult' , 'identity_hate']]\n",
    "print(label.head())"
   ]
  },
  {
   "cell_type": "markdown",
   "metadata": {},
   "source": [
    "# Data Visualization"
   ]
  },
  {
   "cell_type": "code",
   "execution_count": 11,
   "metadata": {},
   "outputs": [
    {
     "name": "stdout",
     "output_type": "stream",
     "text": [
      "average length of row: 394.712\n"
     ]
    },
    {
     "data": {
      "image/png": "[encoded data removed]",
      "text/plain": [
       "<Figure size 432x288 with 1 Axes>"
      ]
     },
     "metadata": {
      "needs_background": "light"
     },
     "output_type": "display_data"
    }
   ],
   "source": [
    "#For data visualization to see the average words in each row\n",
    "\n",
    "x = [len(comment[i]) for i in range(comment.shape[0])]\n",
    "print('average length of row: {:.3f}'.format(sum(x)/len(x)))\n",
    "ranges = [0,200,400,600,800,1000,1200,1400,1600]\n",
    "plt.hist(x, bins = ranges, color=['orange'])\n",
    "plt.xlabel('Length of comments')\n",
    "plt.ylabel('Number of comments')    \n",
    "plt.axis([0, 1600, 0, 100000])\n",
    "plt.grid(True)\n",
    "plt.show()\n"
   ]
  },
  {
   "cell_type": "code",
   "execution_count": 12,
   "metadata": {},
   "outputs": [
    {
     "data": {
      "image/png": "[encoded data removed]",
      "text/plain": [
       "<Figure size 432x288 with 1 Axes>"
      ]
     },
     "metadata": {
      "needs_background": "light"
     },
     "output_type": "display_data"
    }
   ],
   "source": [
    "#To find the number of comments in each label\n",
    "\n",
    "toxic_count = df['toxic'].value_counts()\n",
    "severe_toxic_count = df['severe_toxic'].value_counts()\n",
    "obscene_count = df['obscene'].value_counts()\n",
    "threat_count = df['threat'].value_counts()\n",
    "insult_count = df['insult'].value_counts()\n",
    "identity_hate_count = df['identity_hate'].value_counts()\n",
    "\n",
    "df0=pd.DataFrame({'x':['toxic','severe_toxic', 'obscene', 'threat', 'insult', 'identity_hate'],'y':[toxic_count[0], severe_toxic_count[0], obscene_count[0], threat_count[0], insult_count[0], identity_hate_count[0]]})\n",
    "df1=pd.DataFrame({'x':['toxic','severe_toxic', 'obscene', 'threat', 'insult', 'identity_hate'],'y':[toxic_count[1], severe_toxic_count[1], obscene_count[1], threat_count[1], insult_count[1], identity_hate_count[1]]})\n",
    "\n",
    "df0['legend']=0\n",
    "df1['legend']=1\n",
    "df_final=pd.concat([df0,df1])\n",
    "sns.barplot(x='x',y='y', data=df_final, hue='legend')\n",
    "plt.show()"
   ]
  },
  {
   "cell_type": "markdown",
   "metadata": {},
   "source": [
    "# Splitting training data and preprocessing using tfidf vectorizer."
   ]
  },
  {
   "cell_type": "code",
   "execution_count": 13,
   "metadata": {},
   "outputs": [
    {
     "name": "stdout",
     "output_type": "stream",
     "text": [
      "Dimensions of train data X: (143613, 42136) Y : (143613, 6)\n",
      "Dimensions of test data X: (15958, 42136) Y: (15958, 6)\n",
      "  (0, 25027)\t0.20095326827062523\n",
      "  (0, 10331)\t0.20318040803128956\n",
      "  (0, 15287)\t0.20203588971954153\n",
      "  (0, 3101)\t0.19992619087724586\n",
      "  (0, 38757)\t0.19801773613272658\n",
      "  (0, 21579)\t0.18413842095248434\n",
      "  (0, 23209)\t0.17632525208416333\n",
      "  (0, 38156)\t0.18118221393491568\n",
      "  (0, 13133)\t0.14679868418165457\n",
      "  (0, 10703)\t0.15731128966938895\n",
      "  (0, 35281)\t0.14550198329033734\n",
      "  (0, 11653)\t0.18413842095248434\n",
      "  (0, 27338)\t0.15604135516901121\n",
      "  (0, 26976)\t0.12435886015314043\n",
      "  (0, 34045)\t0.15119644381376682\n",
      "  (0, 26236)\t0.14848975552878127\n",
      "  (0, 12750)\t0.16769941902244467\n",
      "  (0, 15285)\t0.14166487631830244\n",
      "  (0, 27150)\t0.10923184144990959\n",
      "  (0, 18806)\t0.1264149891816116\n",
      "  (0, 39940)\t0.17792799678087198\n",
      "  (0, 37238)\t0.13579561576904\n",
      "  (0, 23548)\t0.13633181062792188\n",
      "  (0, 24484)\t0.10570569343077091\n",
      "  (0, 19165)\t0.12302494069854135\n",
      "  :\t:\n",
      "  (143610, 27438)\t0.09352767812250273\n",
      "  (143610, 36061)\t0.04877657849368973\n",
      "  (143610, 31542)\t0.06836571215909655\n",
      "  (143611, 27507)\t0.4200143847639371\n",
      "  (143611, 12832)\t0.3531607188068758\n",
      "  (143611, 75)\t0.30795957484277564\n",
      "  (143611, 38359)\t0.30009495460056296\n",
      "  (143611, 5427)\t0.30581650203739774\n",
      "  (143611, 11288)\t0.20038921491084127\n",
      "  (143611, 36682)\t0.21753104965380077\n",
      "  (143611, 15830)\t0.2339771656872303\n",
      "  (143611, 36088)\t0.3637616401636163\n",
      "  (143611, 27438)\t0.2643458778114113\n",
      "  (143611, 36061)\t0.27572345892438765\n",
      "  (143612, 21697)\t0.3921093345470678\n",
      "  (143612, 3787)\t0.41301949056360676\n",
      "  (143612, 33312)\t0.35352458024766703\n",
      "  (143612, 33311)\t0.3262285402364312\n",
      "  (143612, 14798)\t0.31092494987610214\n",
      "  (143612, 4242)\t0.28437549406404655\n",
      "  (143612, 3779)\t0.2345072423792304\n",
      "  (143612, 121)\t0.2872206913277601\n",
      "  (143612, 31791)\t0.2067334376972056\n",
      "  (143612, 14746)\t0.14904040045674896\n",
      "  (143612, 21688)\t0.253526344403112\n",
      "        toxic  severe_toxic  obscene  threat  insult  identity_hate\n",
      "61509       0             0        0       0       0              0\n",
      "47915       0             0        0       0       0              0\n",
      "138313      0             0        0       0       0              0\n",
      "34335       0             0        0       0       0              0\n",
      "147467      0             0        0       0       0              0\n",
      "...       ...           ...      ...     ...     ...            ...\n",
      "92095       0             0        0       0       0              0\n",
      "25837       0             0        0       0       0              0\n",
      "143248      0             0        0       0       0              0\n",
      "22954       0             0        0       0       0              0\n",
      "56875       0             0        0       0       0              0\n",
      "\n",
      "[143613 rows x 6 columns]\n"
     ]
    }
   ],
   "source": [
    "\n",
    "from sklearn.model_selection import train_test_split\n",
    "from sklearn.feature_extraction.text import TfidfVectorizer\n",
    "\n",
    "vectorizer = TfidfVectorizer(min_df=0.00009, smooth_idf=True, norm=\"l2\", tokenizer = lambda x: x.split(\" \"), sublinear_tf=False, ngram_range=(1,2), stop_words='english')\n",
    "comment = vectorizer.fit_transform(comment)\n",
    "\n",
    "# X : comment, y : label\n",
    "X_train, X_test, y_train, y_test = train_test_split(comment, label, test_size=0.1)\n",
    "\n",
    "print(\"Dimensions of train data X:\",X_train.shape, \"Y :\",y_train.shape)\n",
    "print(\"Dimensions of test data X:\",X_test.shape,\"Y:\",y_test.shape)\n",
    "\n",
    "\n",
    "print(X_train)\n",
    "print(y_train)"
   ]
  },
  {
   "cell_type": "markdown",
   "metadata": {},
   "source": [
    "# Evaluation Metrics"
   ]
  },
  {
   "cell_type": "code",
   "execution_count": 14,
   "metadata": {},
   "outputs": [],
   "source": [
    "from sklearn.metrics import hamming_loss\n",
    "from sklearn.metrics import accuracy_score\n",
    "from sklearn.metrics import log_loss\n",
    "\n",
    "def evaluate_metrics(y_test, y_pred): \n",
    "    accuracy = accuracy_score(y_test, y_pred)\n",
    "    print(\"Accuracy     : \", accuracy*100)\n",
    "    \n",
    "    hammingLoss = hamming_loss(y_test, y_pred)\n",
    "    print(\"Hamming_loss : \", hammingLoss*100)\n",
    "    \n",
    "    logLoss = log_loss(y_test, y_pred)\n",
    "    print(\"Log_loss     : \", logLoss)"
   ]
  },
  {
   "cell_type": "markdown",
   "metadata": {},
   "source": [
    "# Building the model with : OneVsRestClassifier and Logistic Regression."
   ]
  },
  {
   "cell_type": "code",
   "execution_count": 11,
   "metadata": {},
   "outputs": [],
   "source": [
    "from sklearn.linear_model import LogisticRegression\n",
    "from sklearn.multiclass import OneVsRestClassifier\n",
    "\n",
    "classifier_OVR = OneVsRestClassifier(LogisticRegression(penalty='l2', class_weight='balanced', verbose=1), n_jobs=-1)\n",
    "classifier_OVR.fit(X_train, y_train)\n",
    "predictions = classifier_OVR.predict(X_test)"
   ]
  },
  {
   "cell_type": "code",
   "execution_count": 12,
   "metadata": {},
   "outputs": [
    {
     "name": "stdout",
     "output_type": "stream",
     "text": [
      "Accuracy     :  85.69369595187368\n",
      "Hamming_loss :  3.8768433805405857\n",
      "Log_loss     :  0.756322450265294\n"
     ]
    }
   ],
   "source": [
    "score = classifier_OVR.score(X_test, y_test)\n",
    "evaluate_metrics(y_test, predictions)"
   ]
  },
  {
   "cell_type": "code",
   "execution_count": 13,
   "metadata": {},
   "outputs": [
    {
     "name": "stdout",
     "output_type": "stream",
     "text": [
      "   toxic  severe_toxic  obscene  threat  insult  identity_hate\n",
      "0      0             0        0       0       0              0\n",
      "[[1 1 1 1 1 1]]\n"
     ]
    }
   ],
   "source": [
    "sentence = 'I hate that you love me'\n",
    "sentence1 = 'I like how you are bad'\n",
    "sentence3 = 'YOu fucking piece of shit. I will kill you'\n",
    "y_pred = classifier_OVR.predict(vectorizer.transform([sentence3]))\n",
    "print(label.head(1))\n",
    "print(y_pred)\n"
   ]
  },
  {
   "cell_type": "code",
   "execution_count": 14,
   "metadata": {},
   "outputs": [
    {
     "name": "stdout",
     "output_type": "stream",
     "text": [
      "Best estimator:               OneVsRestClassifier(estimator=LogisticRegression(C=10, class_weight='balanced'),\n",
      "                    n_jobs=-1)\n",
      "Best Cross Validation Score:  0.6243943378773815\n"
     ]
    }
   ],
   "source": [
    "from sklearn.model_selection import RandomizedSearchCV\n",
    "from scipy import stats\n",
    "\n",
    "alpha = [0.000001,0.00001,0.0001,0.001,0.01,0.1,1,10,100,1000,10000]\n",
    "parameters  = {\"estimator__C\":alpha, \"estimator__penalty\":['l2']}\n",
    "\n",
    "base_estimator_one = OneVsRestClassifier(LogisticRegression(class_weight='balanced'), n_jobs=-1)\n",
    "randomized_search = RandomizedSearchCV(estimator=base_estimator_one, param_distributions=parameters, n_iter=10, cv=5, scoring='f1_micro', n_jobs=-1, verbose=0)\n",
    "randomized_search.fit(X_train, y_train)\n",
    "print(\"Best estimator:              \",randomized_search.best_estimator_)\n",
    "print(\"Best Cross Validation Score: \",randomized_search.best_score_)\n"
   ]
  },
  {
   "cell_type": "code",
   "execution_count": 15,
   "metadata": {},
   "outputs": [
    {
     "name": "stdout",
     "output_type": "stream",
     "text": [
      "Accuracy     :  86.0508835693696\n",
      "Hamming_loss :  3.4987675982788153\n",
      "Log_loss     :  0.9995785618609669\n"
     ]
    }
   ],
   "source": [
    "classifier_OVR_best = randomized_search.best_estimator_\n",
    "classifier_OVR_best.fit(X_train, y_train)\n",
    "pred_OVR_best = classifier_OVR_best.predict(X_test)\n",
    "evaluate_metrics(y_test, pred_OVR_best)"
   ]
  },
  {
   "cell_type": "markdown",
   "metadata": {},
   "source": [
    "# Building the model with : K-Nearest Neighbor."
   ]
  },
  {
   "cell_type": "code",
   "execution_count": null,
   "metadata": {},
   "outputs": [],
   "source": [
    "from sklearn.model_selection import GridSearchCV\n",
    "from sklearn.neighbors import KNeighborsClassifier\n",
    "\n",
    "k_range = range(1,41)\n",
    "\n",
    "#Tuning k using gridsearch, or in other words, finding the best possible k value\n",
    "k_array = []\n",
    "for i in k_range:\n",
    "    k_array.append(i)\n",
    "\n",
    "grid_params = {'n_neighbors':k_array}\n",
    "gs = GridSearchCV(KNeighborsClassifier(),grid_params)\n",
    "gs_results = gs.fit(X_train,y_train)\n",
    "\n",
    "k_val = gs_results.best_score_\n",
    "# print(\"Best score\",gs_results.best_score_)\n",
    "print(\"Best estimator:              \",gs_results.best_estimator_)\n",
    "print(\"Best Cross Validation Score: \",gs_results.best_score_)"
   ]
  },
  {
   "cell_type": "code",
   "execution_count": null,
   "metadata": {},
   "outputs": [],
   "source": [
    "classifier_KNN_best = gs_results.best_estimator_ #This is the best possible k value obtained\n",
    "classifier_KNN_best.fit(X_train, y_train)\n",
    "\n",
    "pred_KNN_best = classifier_KNN_best.predict(X_test)\n",
    "evaluate_metrics(y_test, pred_KNN_best)"
   ]
  }
 ],
 "metadata": {
  "kernelspec": {
   "display_name": "Python 3",
   "language": "python",
   "name": "python3"
  },
  "language_info": {
   "codemirror_mode": {
    "name": "ipython",
    "version": 3
   },
   "file_extension": ".py",
   "mimetype": "text/x-python",
   "name": "python",
   "nbconvert_exporter": "python",
   "pygments_lexer": "ipython3",
   "version": "3.8.5"
  }
 },
 "nbformat": 4,
 "nbformat_minor": 4
}
