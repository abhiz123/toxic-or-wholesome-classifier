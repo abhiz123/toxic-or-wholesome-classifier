{
 "cells": [
  {
   "cell_type": "code",
   "execution_count": 5,
   "metadata": {},
   "outputs": [],
   "source": [
    "!jt -t chesterish -T -N"
   ]
  },
  {
   "cell_type": "code",
   "execution_count": 2,
   "metadata": {},
   "outputs": [],
   "source": [
    "import pandas as pd\n",
    "import numpy as np\n",
    "import matplotlib.pyplot as plt\n",
    "import seaborn as sns\n",
    "%matplotlib inline"
   ]
  },
  {
   "cell_type": "code",
   "execution_count": 3,
   "metadata": {},
   "outputs": [
    {
     "name": "stdout",
     "output_type": "stream",
     "text": [
      "(159571, 8)\n"
     ]
    }
   ],
   "source": [
    "df = pd.read_csv(\"jigsaw-toxic-comment-classification-challenge/train.csv\",encoding='latin-1')\n",
    "print(df.shape)"
   ]
  },
  {
   "cell_type": "code",
   "execution_count": 4,
   "metadata": {},
   "outputs": [
    {
     "name": "stdout",
     "output_type": "stream",
     "text": [
      "                 id                                       comment_text  toxic  \\\n",
      "0  0000997932d777bf  Explanation\\nWhy the edits made under my usern...      0   \n",
      "1  000103f0d9cfb60f  D'aww! He matches this background colour I'm s...      0   \n",
      "2  000113f07ec002fd  Hey man, I'm really not trying to edit war. It...      0   \n",
      "3  0001b41b1c6bb37e  \"\\nMore\\nI can't make any real suggestions on ...      0   \n",
      "4  0001d958c54c6e35  You, sir, are my hero. Any chance you remember...      0   \n",
      "\n",
      "   severe_toxic  obscene  threat  insult  identity_hate  \n",
      "0             0        0       0       0              0  \n",
      "1             0        0       0       0              0  \n",
      "2             0        0       0       0              0  \n",
      "3             0        0       0       0              0  \n",
      "4             0        0       0       0              0  \n"
     ]
    }
   ],
   "source": [
    "print(df.head())"
   ]
  },
  {
   "cell_type": "code",
   "execution_count": 5,
   "metadata": {},
   "outputs": [
    {
     "name": "stdout",
     "output_type": "stream",
     "text": [
      "0    Explanation\\nWhy the edits made under my usern...\n",
      "1    D'aww! He matches this background colour I'm s...\n",
      "2    Hey man, I'm really not trying to edit war. It...\n",
      "3    \"\\nMore\\nI can't make any real suggestions on ...\n",
      "4    You, sir, are my hero. Any chance you remember...\n",
      "Name: comment_text, dtype: object\n"
     ]
    }
   ],
   "source": [
    "# To split only into text and result\n",
    "#For the text\n",
    "comment = df['comment_text']\n",
    "print(comment.head())"
   ]
  },
  {
   "cell_type": "code",
   "execution_count": 6,
   "metadata": {},
   "outputs": [
    {
     "name": "stdout",
     "output_type": "stream",
     "text": [
      "   toxic  severe_toxic  obscene  threat  insult  identity_hate\n",
      "0      0             0        0       0       0              0\n",
      "1      0             0        0       0       0              0\n",
      "2      0             0        0       0       0              0\n",
      "3      0             0        0       0       0              0\n",
      "4      0             0        0       0       0              0\n"
     ]
    }
   ],
   "source": [
    "#For the other labels\n",
    "label = df[['toxic', 'severe_toxic' , 'obscene' , 'threat' , 'insult' , 'identity_hate']]\n",
    "print(label.head())"
   ]
  },
  {
   "cell_type": "markdown",
   "metadata": {},
   "source": [
    "# Data Visualization"
   ]
  },
  {
   "cell_type": "code",
   "execution_count": 7,
   "metadata": {},
   "outputs": [
    {
     "name": "stdout",
     "output_type": "stream",
     "text": [
      "average length of row: 394.712\n"
     ]
    },
    {
     "data": {
      "image/png": "[encoded data removed]",
      "text/plain": [
       "<Figure size 432x288 with 1 Axes>"
      ]
     },
     "metadata": {
      "needs_background": "light"
     },
     "output_type": "display_data"
    }
   ],
   "source": [
    "#For data visualization to see the average words in each row\n",
    "\n",
    "x = [len(comment[i]) for i in range(comment.shape[0])]\n",
    "print('average length of row: {:.3f}'.format(sum(x)/len(x)))\n",
    "ranges = [0,200,400,600,800,1000,1200,1400,1600]\n",
    "plt.hist(x, bins = ranges, color=['orange'])\n",
    "plt.xlabel('Length of comments')\n",
    "plt.ylabel('Number of comments')    \n",
    "plt.axis([0, 1600, 0, 100000])\n",
    "plt.grid(True)\n",
    "plt.show()\n"
   ]
  },
  {
   "cell_type": "code",
   "execution_count": 8,
   "metadata": {},
   "outputs": [
    {
     "data": {
      "image/png": "[encoded data removed]",
      "text/plain": [
       "<Figure size 432x288 with 1 Axes>"
      ]
     },
     "metadata": {
      "needs_background": "light"
     },
     "output_type": "display_data"
    }
   ],
   "source": [
    "#To find the number of comments in each label\n",
    "\n",
    "toxic_count = df['toxic'].value_counts()\n",
    "severe_toxic_count = df['severe_toxic'].value_counts()\n",
    "obscene_count = df['obscene'].value_counts()\n",
    "threat_count = df['threat'].value_counts()\n",
    "insult_count = df['insult'].value_counts()\n",
    "identity_hate_count = df['identity_hate'].value_counts()\n",
    "\n",
    "df0=pd.DataFrame({'x':['toxic','severe_toxic', 'obscene', 'threat', 'insult', 'identity_hate'],'y':[toxic_count[0], severe_toxic_count[0], obscene_count[0], threat_count[0], insult_count[0], identity_hate_count[0]]})\n",
    "df1=pd.DataFrame({'x':['toxic','severe_toxic', 'obscene', 'threat', 'insult', 'identity_hate'],'y':[toxic_count[1], severe_toxic_count[1], obscene_count[1], threat_count[1], insult_count[1], identity_hate_count[1]]})\n",
    "\n",
    "df0['legend']=0\n",
    "df1['legend']=1\n",
    "df_final=pd.concat([df0,df1])\n",
    "sns.barplot(x='x',y='y', data=df_final, hue='legend')\n",
    "plt.show()"
   ]
  },
  {
   "cell_type": "markdown",
   "metadata": {},
   "source": [
    "# Splitting training data and preprocessing using tfidf vectorizer."
   ]
  },
  {
   "cell_type": "code",
   "execution_count": 9,
   "metadata": {},
   "outputs": [
    {
     "name": "stdout",
     "output_type": "stream",
     "text": [
      "Dimensions of train data X: (143613, 42136) Y : (143613, 6)\n",
      "Dimensions of test data X: (15958, 42136) Y: (15958, 6)\n",
      "  (0, 41275)\t0.4061851542546547\n",
      "  (0, 21216)\t0.37193290256581407\n",
      "  (0, 10644)\t0.39408487310244744\n",
      "  (0, 39812)\t0.31594236830208433\n",
      "  (0, 27470)\t0.3059372185848421\n",
      "  (0, 6953)\t0.2824509513350389\n",
      "  (0, 10638)\t0.19201767971739\n",
      "  (0, 39839)\t0.2197307893419784\n",
      "  (0, 10340)\t0.24256450360030848\n",
      "  (0, 19843)\t0.16933463961240602\n",
      "  (0, 6600)\t0.11652180216111821\n",
      "  (0, 3509)\t0.1376782941749398\n",
      "  (0, 36088)\t0.17307512300631156\n",
      "  (0, 27438)\t0.12577383172629958\n",
      "  (0, 36061)\t0.13118720145312662\n",
      "  (1, 26651)\t0.15898762740759137\n",
      "  (1, 37544)\t0.15233039635293935\n",
      "  (1, 149)\t0.15494786312032816\n",
      "  (1, 4851)\t0.14859488200077797\n",
      "  (1, 20965)\t0.1420844284066656\n",
      "  (1, 39055)\t0.15644121917166137\n",
      "  (1, 26522)\t0.15116924453374225\n",
      "  (1, 11975)\t0.2647220011854844\n",
      "  (1, 26648)\t0.13045947264919625\n",
      "  (1, 23515)\t0.14859488200077797\n",
      "  :\t:\n",
      "  (143606, 17620)\t0.38306493482077986\n",
      "  (143606, 10585)\t0.353491795592195\n",
      "  (143606, 23024)\t0.4132069279707017\n",
      "  (143607, 18627)\t0.5155129183555334\n",
      "  (143607, 40570)\t0.48475119822786067\n",
      "  (143607, 41098)\t0.33843649284875\n",
      "  (143607, 356)\t0.356777408294742\n",
      "  (143607, 38898)\t0.23794277177641274\n",
      "  (143607, 18241)\t0.2708210217797221\n",
      "  (143607, 18615)\t0.30305231052323933\n",
      "  (143607, 40407)\t0.1887639707995436\n",
      "  (143609, 19082)\t0.8054903116156487\n",
      "  (143609, 8531)\t0.5926089417932583\n",
      "  (143610, 5587)\t0.4380791232739249\n",
      "  (143610, 16309)\t0.4887125152416352\n",
      "  (143610, 5568)\t0.5362728624239745\n",
      "  (143610, 33586)\t0.39455141160659557\n",
      "  (143610, 41436)\t0.3549469817093581\n",
      "  (143611, 13782)\t0.5950811383287128\n",
      "  (143611, 25962)\t0.51261303354357\n",
      "  (143611, 11980)\t0.46082387982814144\n",
      "  (143611, 40973)\t0.4132162489868965\n",
      "  (143612, 39822)\t0.6986065231079107\n",
      "  (143612, 36261)\t0.6153571241839417\n",
      "  (143612, 31110)\t0.36508154648947283\n",
      "        toxic  severe_toxic  obscene  threat  insult  identity_hate\n",
      "155818      0             0        0       0       0              0\n",
      "16666       0             0        0       0       0              0\n",
      "93545       0             0        0       0       0              0\n",
      "37590       0             0        0       0       0              0\n",
      "78751       0             0        0       0       0              0\n",
      "...       ...           ...      ...     ...     ...            ...\n",
      "76554       0             0        0       0       0              0\n",
      "39472       1             0        1       0       1              1\n",
      "69322       1             1        1       0       1              0\n",
      "66545       1             0        0       0       0              0\n",
      "58674       0             0        0       0       0              0\n",
      "\n",
      "[143613 rows x 6 columns]\n"
     ]
    }
   ],
   "source": [
    "\n",
    "from sklearn.model_selection import train_test_split\n",
    "from sklearn.feature_extraction.text import TfidfVectorizer\n",
    "\n",
    "vectorizer = TfidfVectorizer(min_df=0.00009, smooth_idf=True, norm=\"l2\", tokenizer = lambda x: x.split(\" \"), sublinear_tf=False, ngram_range=(1,2), stop_words='english')\n",
    "comment = vectorizer.fit_transform(comment)\n",
    "\n",
    "# X : comment, y : label\n",
    "X_train, X_test, y_train, y_test = train_test_split(comment, label, test_size=0.1)\n",
    "\n",
    "print(\"Dimensions of train data X:\",X_train.shape, \"Y :\",y_train.shape)\n",
    "print(\"Dimensions of test data X:\",X_test.shape,\"Y:\",y_test.shape)\n",
    "\n",
    "\n",
    "print(X_train)\n",
    "print(y_train)"
   ]
  },
  {
   "cell_type": "markdown",
   "metadata": {},
   "source": [
    "# Evaluation Metrics"
   ]
  },
  {
   "cell_type": "code",
   "execution_count": 10,
   "metadata": {},
   "outputs": [],
   "source": [
    "from sklearn.metrics import hamming_loss\n",
    "from sklearn.metrics import accuracy_score\n",
    "from sklearn.metrics import log_loss\n",
    "\n",
    "def evaluate_metrics(y_test, y_pred): \n",
    "    accuracy = accuracy_score(y_test, y_pred)\n",
    "    print(\"Accuracy     : \", accuracy*100)\n",
    "    \n",
    "    hammingLoss = hamming_loss(y_test, y_pred)\n",
    "    print(\"Hamming_loss : \", hammingLoss*100)\n",
    "    \n",
    "    logLoss = log_loss(y_test, y_pred)\n",
    "    print(\"Log_loss     : \", logLoss)"
   ]
  },
  {
   "cell_type": "markdown",
   "metadata": {},
   "source": [
    "# Building the model with : OneVsRestClassifier and Logistic Regression."
   ]
  },
  {
   "cell_type": "code",
   "execution_count": 11,
   "metadata": {},
   "outputs": [],
   "source": [
    "from sklearn.linear_model import LogisticRegression\n",
    "from sklearn.multiclass import OneVsRestClassifier\n",
    "\n",
    "classifier_OVR = OneVsRestClassifier(LogisticRegression(penalty='l2', class_weight='balanced', verbose=1), n_jobs=-1)\n",
    "classifier_OVR.fit(X_train, y_train)\n",
    "predictions = classifier_OVR.predict(X_test)"
   ]
  },
  {
   "cell_type": "code",
   "execution_count": 12,
   "metadata": {},
   "outputs": [
    {
     "name": "stdout",
     "output_type": "stream",
     "text": [
      "Accuracy     :  85.69369595187368\n",
      "Hamming_loss :  3.8768433805405857\n",
      "Log_loss     :  0.756322450265294\n"
     ]
    }
   ],
   "source": [
    "score = classifier_OVR.score(X_test, y_test)\n",
    "evaluate_metrics(y_test, predictions)"
   ]
  },
  {
   "cell_type": "code",
   "execution_count": 13,
   "metadata": {},
   "outputs": [
    {
     "name": "stdout",
     "output_type": "stream",
     "text": [
      "   toxic  severe_toxic  obscene  threat  insult  identity_hate\n",
      "0      0             0        0       0       0              0\n",
      "[[1 1 1 1 1 1]]\n"
     ]
    }
   ],
   "source": [
    "sentence = 'I hate that you love me'\n",
    "sentence1 = 'I like how you are bad'\n",
    "sentence3 = 'YOu fucking piece of shit. I will kill you'\n",
    "y_pred = classifier_OVR.predict(vectorizer.transform([sentence3]))\n",
    "print(label.head(1))\n",
    "print(y_pred)\n"
   ]
  },
  {
   "cell_type": "code",
   "execution_count": 14,
   "metadata": {},
   "outputs": [
    {
     "name": "stdout",
     "output_type": "stream",
     "text": [
      "Best estimator:               OneVsRestClassifier(estimator=LogisticRegression(C=10, class_weight='balanced'),\n",
      "                    n_jobs=-1)\n",
      "Best Cross Validation Score:  0.6243943378773815\n"
     ]
    }
   ],
   "source": [
    "from sklearn.model_selection import RandomizedSearchCV\n",
    "from scipy import stats\n",
    "\n",
    "alpha = [0.000001,0.00001,0.0001,0.001,0.01,0.1,1,10,100,1000,10000]\n",
    "parameters  = {\"estimator__C\":alpha, \"estimator__penalty\":['l2']}\n",
    "\n",
    "base_estimator_one = OneVsRestClassifier(LogisticRegression(class_weight='balanced'), n_jobs=-1)\n",
    "randomized_search = RandomizedSearchCV(estimator=base_estimator_one, param_distributions=parameters, n_iter=10, cv=5, scoring='f1_micro', n_jobs=-1, verbose=0)\n",
    "randomized_search.fit(X_train, y_train)\n",
    "print(\"Best estimator:              \",randomized_search.best_estimator_)\n",
    "print(\"Best Cross Validation Score: \",randomized_search.best_score_)\n"
   ]
  },
  {
   "cell_type": "code",
   "execution_count": 15,
   "metadata": {},
   "outputs": [
    {
     "name": "stdout",
     "output_type": "stream",
     "text": [
      "Accuracy     :  86.0508835693696\n",
      "Hamming_loss :  3.4987675982788153\n",
      "Log_loss     :  0.9995785618609669\n"
     ]
    }
   ],
   "source": [
    "classifier_OVR_best = randomized_search.best_estimator_\n",
    "classifier_OVR_best.fit(X_train, y_train)\n",
    "pred_OVR_best = classifier_OVR_best.predict(X_test)\n",
    "evaluate_metrics(y_test, pred_OVR_best)"
   ]
  },
  {
   "cell_type": "markdown",
   "metadata": {},
   "source": [
    "# Building the model with : K-Nearest Neighbor."
   ]
  },
  {
   "cell_type": "code",
   "execution_count": 11,
   "metadata": {},
   "outputs": [
    {
     "name": "stdout",
     "output_type": "stream",
     "text": [
      "Best estimator:               KNeighborsClassifier(n_neighbors=1)\n",
      "Best Cross Validation Score:  0.8927673704921995\n"
     ]
    }
   ],
   "source": [
    "from sklearn.model_selection import GridSearchCV\n",
    "from sklearn.neighbors import KNeighborsClassifier\n",
    "\n",
    "k_range = range(1,41)\n",
    "\n",
    "#Tuning k using gridsearch, or in other words, finding the best possible k value\n",
    "k_array = []\n",
    "for i in k_range:\n",
    "    k_array.append(i)\n",
    "\n",
    "grid_params = {'n_neighbors':k_array}\n",
    "gs = GridSearchCV(KNeighborsClassifier(),grid_params)\n",
    "gs_results = gs.fit(X_train,y_train)\n",
    "\n",
    "k_val = gs_results.best_score_\n",
    "# print(\"Best score\",gs_results.best_score_)\n",
    "print(\"Best estimator:              \",gs_results.best_estimator_)\n",
    "print(\"Best Cross Validation Score: \",gs_results.best_score_)"
   ]
  },
  {
   "cell_type": "code",
   "execution_count": 12,
   "metadata": {},
   "outputs": [
    {
     "name": "stdout",
     "output_type": "stream",
     "text": [
      "Accuracy     :  88.65146008271714\n",
      "Hamming_loss :  3.6146969127292476\n",
      "Log_loss     :  0.916218902233894\n"
     ]
    }
   ],
   "source": [
    "classifier_KNN_best = gs_results.best_estimator_ #This is the best possible k value obtained\n",
    "classifier_KNN_best.fit(X_train, y_train)\n",
    "\n",
    "pred_KNN_best = classifier_KNN_best.predict(X_test)\n",
    "evaluate_metrics(y_test, pred_KNN_best)"
   ]
  },
  {
   "cell_type": "markdown",
   "metadata": {},
   "source": [
    "# Building the model with "
   ]
  },
  {
   "cell_type": "code",
   "execution_count": null,
   "metadata": {},
   "outputs": [],
   "source": []
  }
 ],
 "metadata": {
  "kernelspec": {
   "display_name": "Python 3",
   "language": "python",
   "name": "python3"
  },
  "language_info": {
   "codemirror_mode": {
    "name": "ipython",
    "version": 3
   },
   "file_extension": ".py",
   "mimetype": "text/x-python",
   "name": "python",
   "nbconvert_exporter": "python",
   "pygments_lexer": "ipython3",
   "version": "3.8.3"
  }
 },
 "nbformat": 4,
 "nbformat_minor": 4
}
