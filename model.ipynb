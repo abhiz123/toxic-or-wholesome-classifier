{
 "cells": [
  {
   "cell_type": "code",
   "execution_count": 1,
   "metadata": {},
   "outputs": [],
   "source": [
    "# !jt -t chesterish -T -N"
   ]
  },
  {
   "cell_type": "code",
   "execution_count": 2,
   "metadata": {},
   "outputs": [],
   "source": [
    "import pandas as pd\n",
    "import numpy as np\n",
    "import matplotlib.pyplot as plt\n",
    "import seaborn as sns\n",
    "%matplotlib inline"
   ]
  },
  {
   "cell_type": "markdown",
   "metadata": {},
   "source": [
    "# Understanding the dataset\n",
    "\n",
    "This dataset belongs to Kaggle's Toxic Comment Classification Challenge by Jigsaw.\n",
    "\n",
    "Link - https://www.kaggle.com/c/jigsaw-toxic-comment-classification-challenge\n",
    "\n",
    "There are 15957 datapoints and 8 columns, which includes 6 target_columns and text column."
   ]
  },
  {
   "cell_type": "code",
   "execution_count": 3,
   "metadata": {},
   "outputs": [
    {
     "name": "stdout",
     "output_type": "stream",
     "text": [
      "(159571, 8)\n"
     ]
    }
   ],
   "source": [
    "df = pd.read_csv(\"jigsaw-toxic-comment-classification-challenge/train.csv\",encoding='latin-1')\n",
    "print(df.shape)"
   ]
  },
  {
   "cell_type": "code",
   "execution_count": 4,
   "metadata": {},
   "outputs": [
    {
     "name": "stdout",
     "output_type": "stream",
     "text": [
      "                 id                                       comment_text  toxic  \\\n",
      "0  0000997932d777bf  Explanation\\nWhy the edits made under my usern...      0   \n",
      "1  000103f0d9cfb60f  D'aww! He matches this background colour I'm s...      0   \n",
      "2  000113f07ec002fd  Hey man, I'm really not trying to edit war. It...      0   \n",
      "3  0001b41b1c6bb37e  \"\\nMore\\nI can't make any real suggestions on ...      0   \n",
      "4  0001d958c54c6e35  You, sir, are my hero. Any chance you remember...      0   \n",
      "\n",
      "   severe_toxic  obscene  threat  insult  identity_hate  \n",
      "0             0        0       0       0              0  \n",
      "1             0        0       0       0              0  \n",
      "2             0        0       0       0              0  \n",
      "3             0        0       0       0              0  \n",
      "4             0        0       0       0              0  \n"
     ]
    }
   ],
   "source": [
    "print(df.head())"
   ]
  },
  {
   "cell_type": "markdown",
   "metadata": {},
   "source": [
    "### Analyzing the text columns"
   ]
  },
  {
   "cell_type": "code",
   "execution_count": 5,
   "metadata": {},
   "outputs": [
    {
     "name": "stdout",
     "output_type": "stream",
     "text": [
      "0    Explanation\\nWhy the edits made under my usern...\n",
      "1    D'aww! He matches this background colour I'm s...\n",
      "2    Hey man, I'm really not trying to edit war. It...\n",
      "3    \"\\nMore\\nI can't make any real suggestions on ...\n",
      "4    You, sir, are my hero. Any chance you remember...\n",
      "Name: comment_text, dtype: object\n"
     ]
    }
   ],
   "source": [
    "# To split only into text and result\n",
    "#For the text\n",
    "comment = df['comment_text']\n",
    "print(comment.head())"
   ]
  },
  {
   "cell_type": "markdown",
   "metadata": {},
   "source": [
    "### Analyzing six target columns"
   ]
  },
  {
   "cell_type": "code",
   "execution_count": 6,
   "metadata": {},
   "outputs": [
    {
     "name": "stdout",
     "output_type": "stream",
     "text": [
      "   toxic  severe_toxic  obscene  threat  insult  identity_hate\n",
      "0      0             0        0       0       0              0\n",
      "1      0             0        0       0       0              0\n",
      "2      0             0        0       0       0              0\n",
      "3      0             0        0       0       0              0\n",
      "4      0             0        0       0       0              0\n",
      "5      0             0        0       0       0              0\n",
      "6      1             1        1       0       1              0\n"
     ]
    }
   ],
   "source": [
    "#For the other labels\n",
    "label = df[['toxic', 'severe_toxic' , 'obscene' , 'threat' , 'insult' , 'identity_hate']]\n",
    "print(label.head(7))"
   ]
  },
  {
   "cell_type": "markdown",
   "metadata": {},
   "source": [
    "# Data Visualization"
   ]
  },
  {
   "cell_type": "markdown",
   "metadata": {},
   "source": [
    "###  Visualizating data to see the average characters in each row"
   ]
  },
  {
   "cell_type": "code",
   "execution_count": 7,
   "metadata": {},
   "outputs": [
    {
     "name": "stdout",
     "output_type": "stream",
     "text": [
      "average length of row: 394.712\n"
     ]
    },
    {
     "data": {
      "image/png": "[encoded data removed]",
      "text/plain": [
       "<Figure size 432x288 with 1 Axes>"
      ]
     },
     "metadata": {
      "needs_background": "light"
     },
     "output_type": "display_data"
    }
   ],
   "source": [
    "x = [len(comment[i]) for i in range(comment.shape[0])]\n",
    "print('average length of row: {:.3f}'.format(sum(x)/len(x)))\n",
    "ranges = [0,200,400,600,800,1000,1200,1400,1600]\n",
    "plt.hist(x, bins = ranges, color=['orange'])\n",
    "plt.xlabel('Length of comments')\n",
    "plt.ylabel('Number of comments')    \n",
    "plt.axis([0, 1600, 0, 100000])\n",
    "plt.grid(True)\n",
    "plt.show()\n"
   ]
  },
  {
   "cell_type": "markdown",
   "metadata": {},
   "source": [
    "###  Finding the number of comments for each label"
   ]
  },
  {
   "cell_type": "code",
   "execution_count": 8,
   "metadata": {},
   "outputs": [
    {
     "data": {
      "image/png": "[encoded data removed]",
      "text/plain": [
       "<Figure size 432x288 with 1 Axes>"
      ]
     },
     "metadata": {
      "needs_background": "light"
     },
     "output_type": "display_data"
    }
   ],
   "source": [
    "toxic_count = df['toxic'].value_counts()\n",
    "severe_toxic_count = df['severe_toxic'].value_counts()\n",
    "obscene_count = df['obscene'].value_counts()\n",
    "threat_count = df['threat'].value_counts()\n",
    "insult_count = df['insult'].value_counts()\n",
    "identity_hate_count = df['identity_hate'].value_counts()\n",
    "\n",
    "df0=pd.DataFrame({'x':['toxic','severe_toxic', 'obscene', 'threat', 'insult', 'identity_hate'],'y':[toxic_count[0], severe_toxic_count[0], obscene_count[0], threat_count[0], insult_count[0], identity_hate_count[0]]})\n",
    "df1=pd.DataFrame({'x':['toxic','severe_toxic', 'obscene', 'threat', 'insult', 'identity_hate'],'y':[toxic_count[1], severe_toxic_count[1], obscene_count[1], threat_count[1], insult_count[1], identity_hate_count[1]]})\n",
    "\n",
    "df0['legend']='No'\n",
    "df1['legend']='Yes'\n",
    "df_final=pd.concat([df0,df1])\n",
    "sns.barplot(x='x',y='y', data=df_final, hue='legend')\n",
    "plt.show()"
   ]
  },
  {
   "cell_type": "markdown",
   "metadata": {},
   "source": [
    "# Splitting training data and preprocessing using tfidf vectorizer."
   ]
  },
  {
   "cell_type": "code",
   "execution_count": 9,
   "metadata": {},
   "outputs": [
    {
     "name": "stdout",
     "output_type": "stream",
     "text": [
      "Dimensions of train data X: (143613, 42136) Y : (143613, 6)\n",
      "Dimensions of test data X: (15958, 42136) Y: (15958, 6)\n",
      "  (0, 4560)\t0.6880169084485674\n",
      "  (0, 13453)\t0.5730979445380758\n",
      "  (0, 8501)\t0.349519191000706\n",
      "  (0, 21380)\t0.2435146004105187\n",
      "  (0, 0)\t0.12933852544476332\n",
      "  (1, 17588)\t0.2844574209294161\n",
      "  (1, 22719)\t0.2759834165670613\n",
      "  (1, 15809)\t0.2571681906972783\n",
      "  (1, 17816)\t0.2658629327733081\n",
      "  (1, 11093)\t0.2553589471739581\n",
      "  (1, 6519)\t0.2861569439807937\n",
      "  (1, 34720)\t0.24000666800300255\n",
      "  (1, 27263)\t0.20483907217672787\n",
      "  (1, 2349)\t0.2239829186556813\n",
      "  (1, 16405)\t0.2202395603789883\n",
      "  (1, 7957)\t0.21753735525537302\n",
      "  (1, 38898)\t0.12055148727998509\n",
      "  (1, 9681)\t0.15860650985999358\n",
      "  (1, 15632)\t0.15062056615495903\n",
      "  (1, 11175)\t0.1409227279860479\n",
      "  (1, 29459)\t0.16305161383882333\n",
      "  (1, 7989)\t0.1442677467540799\n",
      "  (1, 17814)\t0.13902739761571045\n",
      "  (1, 6518)\t0.16404542370913855\n",
      "  (1, 6526)\t0.17741529604794845\n",
      "  :\t:\n",
      "  (143610, 19174)\t0.2133466217030899\n",
      "  (143610, 30313)\t0.13239347851952415\n",
      "  (143610, 6518)\t0.16132990934876534\n",
      "  (143610, 6526)\t0.17447846444804793\n",
      "  (143610, 27825)\t0.12297264201765566\n",
      "  (143610, 26211)\t0.2234522110454408\n",
      "  (143611, 29509)\t0.7114214495642555\n",
      "  (143611, 41420)\t0.4860537582278624\n",
      "  (143611, 25510)\t0.47260984780046755\n",
      "  (143611, 1856)\t0.1851248145832508\n",
      "  (143612, 40949)\t0.33208032294096457\n",
      "  (143612, 8138)\t0.2956812008716447\n",
      "  (143612, 25591)\t0.27567809710456126\n",
      "  (143612, 28497)\t0.2696712597083846\n",
      "  (143612, 7492)\t0.22070358518875924\n",
      "  (143612, 18590)\t0.20905429650489527\n",
      "  (143612, 14484)\t0.31620296625782607\n",
      "  (143612, 40345)\t0.1952551534227448\n",
      "  (143612, 10744)\t0.22712567601548636\n",
      "  (143612, 6409)\t0.2912986766068681\n",
      "  (143612, 6418)\t0.3792259472346875\n",
      "  (143612, 28494)\t0.17917129484743574\n",
      "  (143612, 16868)\t0.23395023192258008\n",
      "  (143612, 36539)\t0.17147782976701337\n",
      "  (143612, 7061)\t0.1629681013263658\n",
      "        toxic  severe_toxic  obscene  threat  insult  identity_hate\n",
      "133899      0             0        0       0       0              0\n",
      "93470       0             0        0       0       0              0\n",
      "126476      0             0        0       0       0              0\n",
      "10926       0             0        0       0       0              0\n",
      "129341      0             0        0       0       0              0\n",
      "...       ...           ...      ...     ...     ...            ...\n",
      "42286       0             0        0       0       0              0\n",
      "119814      1             0        1       0       1              0\n",
      "129696      0             0        0       0       0              0\n",
      "67035       0             0        0       0       0              0\n",
      "16434       0             0        0       0       0              0\n",
      "\n",
      "[143613 rows x 6 columns]\n"
     ]
    }
   ],
   "source": [
    "from sklearn.model_selection import train_test_split\n",
    "from sklearn.feature_extraction.text import TfidfVectorizer\n",
    "\n",
    "vectorizer = TfidfVectorizer(min_df=0.00009, smooth_idf=True, norm=\"l2\", tokenizer = lambda x: x.split(\" \"), sublinear_tf=False, ngram_range=(1,2), stop_words='english')\n",
    "comment = vectorizer.fit_transform(comment)\n",
    "\n",
    "# X : comment, y : label\n",
    "X_train, X_test, y_train, y_test = train_test_split(comment, label, test_size=0.1)\n",
    "\n",
    "print(\"Dimensions of train data X:\",X_train.shape, \"Y :\",y_train.shape)\n",
    "print(\"Dimensions of test data X:\",X_test.shape,\"Y:\",y_test.shape)\n",
    "\n",
    "\n",
    "print(X_train)\n",
    "print(y_train)"
   ]
  },
  {
   "cell_type": "markdown",
   "metadata": {},
   "source": [
    "# Evaluation Metrics"
   ]
  },
  {
   "cell_type": "code",
   "execution_count": 10,
   "metadata": {},
   "outputs": [],
   "source": [
    "from sklearn.metrics import hamming_loss\n",
    "from sklearn.metrics import accuracy_score\n",
    "from sklearn.metrics import log_loss\n",
    "\n",
    "def evaluate_metrics(y_test, y_pred): \n",
    "    accuracy = accuracy_score(y_test, y_pred)\n",
    "    print(\"Accuracy     : \", accuracy*100)\n",
    "    \n",
    "    hammingLoss = hamming_loss(y_test, y_pred)\n",
    "    print(\"Hamming_loss : \", hammingLoss*100)\n",
    "    \n",
    "    logLoss = log_loss(y_test, y_pred)\n",
    "    print(\"Log_loss     : \", logLoss)"
   ]
  },
  {
   "cell_type": "markdown",
   "metadata": {},
   "source": [
    "# Building the model with : OneVsRestClassifier and Logistic Regression."
   ]
  },
  {
   "cell_type": "code",
   "execution_count": 11,
   "metadata": {},
   "outputs": [],
   "source": [
    "from sklearn.linear_model import LogisticRegression\n",
    "from sklearn.multiclass import OneVsRestClassifier\n",
    "\n",
    "classifier_OVR = OneVsRestClassifier(LogisticRegression(penalty='l2', class_weight='balanced', verbose=1), n_jobs=-1)\n",
    "classifier_OVR.fit(X_train, y_train)\n",
    "predictions = classifier_OVR.predict(X_test)"
   ]
  },
  {
   "cell_type": "code",
   "execution_count": 12,
   "metadata": {},
   "outputs": [
    {
     "name": "stdout",
     "output_type": "stream",
     "text": [
      "Accuracy     :  86.11981451309688\n",
      "Hamming_loss :  3.7295818189413876\n",
      "Log_loss     :  0.7586677373644679\n"
     ]
    }
   ],
   "source": [
    "score = classifier_OVR.score(X_test, y_test)\n",
    "evaluate_metrics(y_test, predictions)"
   ]
  },
  {
   "cell_type": "code",
   "execution_count": 13,
   "metadata": {},
   "outputs": [
    {
     "name": "stdout",
     "output_type": "stream",
     "text": [
      "              precision    recall  f1-score   support\n",
      "\n",
      "           0       0.58      0.83      0.68      1502\n",
      "           1       0.27      0.86      0.41       169\n",
      "           2       0.61      0.84      0.71       859\n",
      "           3       0.16      0.74      0.26        34\n",
      "           4       0.49      0.84      0.62       774\n",
      "           5       0.19      0.70      0.30       134\n",
      "\n",
      "   micro avg       0.49      0.83      0.62      3472\n",
      "   macro avg       0.38      0.80      0.50      3472\n",
      "weighted avg       0.53      0.83      0.64      3472\n",
      " samples avg       0.06      0.08      0.06      3472\n",
      "\n"
     ]
    },
    {
     "name": "stderr",
     "output_type": "stream",
     "text": [
      "/opt/anaconda3/lib/python3.8/site-packages/sklearn/metrics/_classification.py:1221: UndefinedMetricWarning: Precision and F-score are ill-defined and being set to 0.0 in samples with no predicted labels. Use `zero_division` parameter to control this behavior.\n",
      "  _warn_prf(average, modifier, msg_start, len(result))\n",
      "/opt/anaconda3/lib/python3.8/site-packages/sklearn/metrics/_classification.py:1221: UndefinedMetricWarning: Recall and F-score are ill-defined and being set to 0.0 in samples with no true labels. Use `zero_division` parameter to control this behavior.\n",
      "  _warn_prf(average, modifier, msg_start, len(result))\n"
     ]
    }
   ],
   "source": [
    "# classification report\n",
    "from sklearn.metrics import classification_report\n",
    "\n",
    "print(classification_report(y_test, predictions))"
   ]
  },
  {
   "cell_type": "code",
   "execution_count": 14,
   "metadata": {},
   "outputs": [
    {
     "name": "stdout",
     "output_type": "stream",
     "text": [
      "   toxic  severe_toxic  obscene  threat  insult  identity_hate\n",
      "0      0             0        0       0       0              0\n",
      "[[0.2860727  0.07396809 0.15887944 0.01557929 0.18752062 0.09290185]]\n",
      "[[0 0 0 0 0 0]]\n"
     ]
    }
   ],
   "source": [
    "sentence = 'I hate that you love me'\n",
    "sentence1 = 'I like how you are bad'\n",
    "sentence3 = 'I'\n",
    "y_pred1 = classifier_OVR.predict(vectorizer.transform([sentence3]))\n",
    "y_pred_OVR = classifier_OVR.predict_proba(vectorizer.transform([sentence3]))\n",
    "print(label.head(1))\n",
    "print(y_pred_OVR)\n",
    "print(y_pred1)\n"
   ]
  },
  {
   "cell_type": "code",
   "execution_count": 15,
   "metadata": {},
   "outputs": [],
   "source": [
    "from sklearn.model_selection import RandomizedSearchCV\n",
    "from scipy import stats\n",
    "\n",
    "# alpha = [0.000001,0.00001,0.0001,0.001,0.01,0.1,1,10,100,1000,10000]\n",
    "# parameters  = {\"estimator__C\":alpha, \"estimator__penalty\":['l2']}\n",
    "\n",
    "# base_estimator_one = OneVsRestClassifier(LogisticRegression(class_weight='balanced'), n_jobs=-1)\n",
    "# randomized_search = RandomizedSearchCV(estimator=base_estimator_one, param_distributions=parameters, n_iter=10, cv=5, scoring='f1_micro', n_jobs=-1, verbose=0)\n",
    "# randomized_search.fit(X_train, y_train)\n",
    "# print(\"Best estimator:              \",randomized_search.best_estimator_)\n",
    "# print(\"Best Cross Validation Score: \",randomized_search.best_score_)\n"
   ]
  },
  {
   "cell_type": "code",
   "execution_count": 16,
   "metadata": {},
   "outputs": [
    {
     "name": "stdout",
     "output_type": "stream",
     "text": [
      "Accuracy     :  86.11981451309688\n",
      "Hamming_loss :  3.7295818189413876\n",
      "Log_loss     :  0.7586677373644679\n"
     ]
    }
   ],
   "source": [
    "# classifier_OVR_best = randomized_search.best_estimator_\n",
    "classifier_OVR_best = OneVsRestClassifier(estimator=LogisticRegression(C=1, class_weight='balanced'), n_jobs=-1)\n",
    "\n",
    "classifier_OVR_best.fit(X_train, y_train)\n",
    "\n",
    "pred_OVR_best = classifier_OVR_best.predict(X_test)\n",
    "pred_proba_OVR_best = classifier_OVR_best.predict_proba(X_test)\n",
    "\n",
    "evaluate_metrics(y_test, pred_OVR_best)"
   ]
  },
  {
   "cell_type": "code",
   "execution_count": 17,
   "metadata": {},
   "outputs": [
    {
     "name": "stdout",
     "output_type": "stream",
     "text": [
      "               precision    recall  f1-score   support\n",
      "\n",
      "        toxic       0.58      0.83      0.68      1502\n",
      " severe_toxic       0.27      0.86      0.41       169\n",
      "      obscene       0.61      0.84      0.71       859\n",
      "       threat       0.16      0.74      0.26        34\n",
      "       insult       0.49      0.84      0.62       774\n",
      "identity_hate       0.19      0.70      0.30       134\n",
      "\n",
      "    micro avg       0.49      0.83      0.62      3472\n",
      "    macro avg       0.38      0.80      0.50      3472\n",
      " weighted avg       0.53      0.83      0.64      3472\n",
      "  samples avg       0.06      0.08      0.06      3472\n",
      "\n"
     ]
    },
    {
     "name": "stderr",
     "output_type": "stream",
     "text": [
      "/opt/anaconda3/lib/python3.8/site-packages/sklearn/metrics/_classification.py:1221: UndefinedMetricWarning: Precision and F-score are ill-defined and being set to 0.0 in samples with no predicted labels. Use `zero_division` parameter to control this behavior.\n",
      "  _warn_prf(average, modifier, msg_start, len(result))\n",
      "/opt/anaconda3/lib/python3.8/site-packages/sklearn/metrics/_classification.py:1221: UndefinedMetricWarning: Recall and F-score are ill-defined and being set to 0.0 in samples with no true labels. Use `zero_division` parameter to control this behavior.\n",
      "  _warn_prf(average, modifier, msg_start, len(result))\n"
     ]
    }
   ],
   "source": [
    "# classification report\n",
    "from sklearn.metrics import classification_report\n",
    "\n",
    "print(classification_report(y_test, pred_OVR_best, target_names=['toxic', 'severe_toxic' , 'obscene' , 'threat' , 'insult' , 'identity_hate']))"
   ]
  },
  {
   "cell_type": "code",
   "execution_count": 18,
   "metadata": {},
   "outputs": [
    {
     "name": "stdout",
     "output_type": "stream",
     "text": [
      "   toxic  severe_toxic  obscene  threat  insult  identity_hate\n",
      "0      0             0        0       0       0              0\n",
      "[[0.33673831 0.04342265 0.29820203 0.00486627 0.17149079 0.24371602]]\n",
      "[[0 0 0 0 0 0]]\n"
     ]
    }
   ],
   "source": [
    "sentence = 'I love you'\n",
    "\n",
    "y_pred_OVR_best = classifier_OVR_best.predict_proba(vectorizer.transform([sentence]))\n",
    "y_pred1 = classifier_OVR_best.predict(vectorizer.transform([sentence]))\n",
    "\n",
    "print(label.head(1))\n",
    "print(y_pred_OVR_best)\n",
    "print(y_pred1)"
   ]
  },
  {
   "cell_type": "markdown",
   "metadata": {},
   "source": [
    "# Building the model with : K-Nearest Neighbor."
   ]
  },
  {
   "cell_type": "code",
   "execution_count": 19,
   "metadata": {},
   "outputs": [],
   "source": [
    "from sklearn.model_selection import GridSearchCV\n",
    "from sklearn.neighbors import KNeighborsClassifier\n",
    "\n",
    "# # k_range = range(1,41)\n",
    "\n",
    "# #Tuning k using gridsearch, or in other words, finding the best possible k value\n",
    "# k_array = [1]\n",
    "# # for i in k_range:\n",
    "# #     k_array.append(i)\n",
    "\n",
    "# grid_params = {'n_neighbors':k_array}\n",
    "# gs = GridSearchCV(KNeighborsClassifier(),grid_params)\n",
    "# gs_results = gs.fit(X_train,y_train)\n",
    "\n",
    "# k_val = gs_results.best_score_\n",
    "# # print(\"Best score\",gs_results.best_score_)\n",
    "# print(\"Best estimator:              \",gs_results.best_estimator_)\n",
    "# print(\"Best Cross Validation Score: \",gs_results.best_score_)"
   ]
  },
  {
   "cell_type": "code",
   "execution_count": 21,
   "metadata": {},
   "outputs": [
    {
     "name": "stdout",
     "output_type": "stream",
     "text": [
      "Accuracy     :  89.12144378994861\n",
      "Hamming_loss :  3.3431507707732795\n",
      "Log_loss     :  0.853682250767811\n"
     ]
    }
   ],
   "source": [
    "# classifier_KNN_best = gs_results.best_estimator_ #This is the best possible k value obtained\n",
    "from sklearn.neighbors import KNeighborsClassifier\n",
    "classifier_KNN_best = KNeighborsClassifier(n_neighbors=1)\n",
    "classifier_KNN_best.fit(X_train, y_train)\n",
    "\n",
    "pred_KNN_best = classifier_KNN_best.predict(X_test)\n",
    "evaluate_metrics(y_test, pred_KNN_best)"
   ]
  },
  {
   "cell_type": "code",
   "execution_count": 22,
   "metadata": {},
   "outputs": [
    {
     "name": "stdout",
     "output_type": "stream",
     "text": [
      "               precision    recall  f1-score   support\n",
      "\n",
      "        toxic       0.62      0.28      0.39      1502\n",
      " severe_toxic       0.35      0.25      0.30       169\n",
      "      obscene       0.66      0.31      0.43       859\n",
      "       threat       0.12      0.06      0.08        34\n",
      "       insult       0.56      0.27      0.37       774\n",
      "identity_hate       0.30      0.14      0.19       134\n",
      "\n",
      "    micro avg       0.58      0.28      0.38      3472\n",
      "    macro avg       0.44      0.22      0.29      3472\n",
      " weighted avg       0.59      0.28      0.38      3472\n",
      "  samples avg       0.02      0.02      0.02      3472\n",
      "\n"
     ]
    },
    {
     "name": "stderr",
     "output_type": "stream",
     "text": [
      "/opt/anaconda3/lib/python3.8/site-packages/sklearn/metrics/_classification.py:1221: UndefinedMetricWarning: Precision and F-score are ill-defined and being set to 0.0 in samples with no predicted labels. Use `zero_division` parameter to control this behavior.\n",
      "  _warn_prf(average, modifier, msg_start, len(result))\n",
      "/opt/anaconda3/lib/python3.8/site-packages/sklearn/metrics/_classification.py:1221: UndefinedMetricWarning: Recall and F-score are ill-defined and being set to 0.0 in samples with no true labels. Use `zero_division` parameter to control this behavior.\n",
      "  _warn_prf(average, modifier, msg_start, len(result))\n"
     ]
    }
   ],
   "source": [
    "# have to do classification report\n",
    "from sklearn.metrics import classification_report\n",
    "\n",
    "print(classification_report(y_test, pred_KNN_best, target_names=['toxic', 'severe_toxic' , 'obscene' , 'threat' , 'insult' , 'identity_hate']))"
   ]
  },
  {
   "cell_type": "code",
   "execution_count": 25,
   "metadata": {},
   "outputs": [
    {
     "name": "stdout",
     "output_type": "stream",
     "text": [
      "   toxic  severe_toxic  obscene  threat  insult  identity_hate\n",
      "0      0             0        0       0       0              0\n",
      "[[0 0 0 0 0 0]]\n"
     ]
    }
   ],
   "source": [
    "sentence = 'I like you'\n",
    "y_pred_KNN = classifier_KNN_best.predict(vectorizer.transform([sentence]))\n",
    "\n",
    "print(label.head(1))\n",
    "print(y_pred_KNN)"
   ]
  }
 ],
 "metadata": {
  "kernelspec": {
   "display_name": "Python 3",
   "language": "python",
   "name": "python3"
  },
  "language_info": {
   "codemirror_mode": {
    "name": "ipython",
    "version": 3
   },
   "file_extension": ".py",
   "mimetype": "text/x-python",
   "name": "python",
   "nbconvert_exporter": "python",
   "pygments_lexer": "ipython3",
   "version": "3.8.3"
  }
 },
 "nbformat": 4,
 "nbformat_minor": 4
}
